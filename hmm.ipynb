{
 "cells": [
  {
   "cell_type": "code",
   "execution_count": 5,
   "metadata": {},
   "outputs": [],
   "source": [
    "import numpy as np\n",
    "from hmmlearn import hmm\n",
    "#状态\n",
    "status=['袋子1','袋子2','袋子3']\n",
    "obs=['白球','黑球']\n",
    "n_status=len(status)\n",
    "m_obs=len(obs)\n",
    "#起始矩阵\n",
    "start_pro=np.array([0.2,0.5,0.3])\n",
    "#状态转移矩阵\n",
    "transition_pro=np.array([\n",
    "    [0.5,0.4,0.1],\n",
    "    [0.2,0.2,0.6],\n",
    "    [0.2,0.5,0.3],\n",
    "])\n",
    "#弹射矩阵\n",
    "emissioin_pro=np.array([\n",
    "    [0.4,0.6],\n",
    "    [0.6,0.2],\n",
    "    [0.5,0.5],\n",
    "])"
   ]
  },
  {
   "cell_type": "code",
   "execution_count": 22,
   "metadata": {},
   "outputs": [
    {
     "name": "stdout",
     "output_type": "stream",
     "text": [
      "颜色：白球 黑球 白球 白球 黑球\n",
      "袋子序列：袋子2 袋子3 袋子3 袋子2 袋子3\n",
      "概率值：0.0012150000000000004\n"
     ]
    }
   ],
   "source": [
    "#定义模型\n",
    "model=hmm.MultinomialHMM(n_components=n_status)\n",
    "model.startprob_=start_pro\n",
    "model.transmat_=transition_pro\n",
    "model.emissionprob_=emissioin_pro\n",
    "#进行预测\n",
    "se=np.array([[0,1,0,0,1]]).T\n",
    "logprob,box_index=model.decode(se,algorithm='viterbi')\n",
    "print('颜色：',end='')\n",
    "print(\" \".join(map(lambda t:obs[t],[0,1,0,0,1])))\n",
    "print('袋子序列：',end='')\n",
    "print(\" \".join(map(lambda t:status[t],box_index)))\n",
    "print('概率值：',end='')\n",
    "print(np.exp(logprob))"
   ]
  },
  {
   "cell_type": "code",
   "execution_count": 23,
   "metadata": {},
   "outputs": [
    {
     "name": "stdout",
     "output_type": "stream",
     "text": [
      "初始状态：\n",
      "[2.01371465e-06 9.99997986e-01 1.31279170e-22]\n",
      "状态转移矩阵：\n",
      "[[0.30012623 0.47858025 0.22129352]\n",
      " [0.12814653 0.18422413 0.68762934]\n",
      " [0.60770658 0.27706372 0.1152297 ]]\n",
      "弹射矩阵：\n",
      "[[0.67875466 0.32124534]\n",
      " [0.94405943 0.05594057]\n",
      " [0.04099108 0.95900892]]\n"
     ]
    }
   ],
   "source": [
    "#参数训练，获取状态转移矩阵和弹射矩阵\n",
    "status=['袋子1','袋子2','袋子3']\n",
    "obs=['白球','黑球']\n",
    "n_status=len(status)\n",
    "m_obs=len(obs)\n",
    "model2=hmm.MultinomialHMM(n_components=n_status,n_iter=20,tol=0.001)\n",
    "X2=np.array([\n",
    "    [0,1,0,0,1],\n",
    "    [0,0,0,1,1],\n",
    "    [1,1,0,1,0],\n",
    "    [0,1,0,1,1],\n",
    "    [0,0,0,1,0],\n",
    "])\n",
    "model2.fit(X2)\n",
    "print(\"初始状态：\")\n",
    "print(model2.startprob_)\n",
    "print(\"状态转移矩阵：\")\n",
    "print(model2.transmat_)\n",
    "print(\"弹射矩阵：\")\n",
    "print(model2.emissionprob_)"
   ]
  }
 ],
 "metadata": {
  "kernelspec": {
   "display_name": "Python 3",
   "language": "python",
   "name": "python3"
  },
  "language_info": {
   "codemirror_mode": {
    "name": "ipython",
    "version": 3
   },
   "file_extension": ".py",
   "mimetype": "text/x-python",
   "name": "python",
   "nbconvert_exporter": "python",
   "pygments_lexer": "ipython3",
   "version": "3.7.3"
  }
 },
 "nbformat": 4,
 "nbformat_minor": 2
}
