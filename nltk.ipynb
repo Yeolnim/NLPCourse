{
 "cells": [
  {
   "cell_type": "code",
   "execution_count": 1,
   "metadata": {},
   "outputs": [
    {
     "name": "stdout",
     "output_type": "stream",
     "text": [
      "[('Xylina', 'female'), ('Yalonda', 'female'), ('Yehudit', 'female'), ('Yelena', 'female'), ('Yetta', 'female'), ('Yettie', 'female'), ('Yetty', 'female'), ('Yevette', 'female'), ('Yoko', 'female'), ('Yolanda', 'female'), ('Yolande', 'female'), ('Yolane', 'female'), ('Yolanthe', 'female'), ('Yonina', 'female'), ('Yoshi', 'female'), ('Yoshiko', 'female'), ('Yovonnda', 'female'), ('Yvette', 'female'), ('Yvonne', 'female'), ('Zabrina', 'female'), ('Zahara', 'female'), ('Zandra', 'female'), ('Zaneta', 'female'), ('Zara', 'female'), ('Zarah', 'female'), ('Zaria', 'female'), ('Zarla', 'female'), ('Zea', 'female'), ('Zelda', 'female'), ('Zelma', 'female'), ('Zena', 'female'), ('Zenia', 'female'), ('Zia', 'female'), ('Zilvia', 'female'), ('Zita', 'female'), ('Zitella', 'female'), ('Zoe', 'female'), ('Zola', 'female'), ('Zonda', 'female'), ('Zondra', 'female'), ('Zonnya', 'female'), ('Zora', 'female'), ('Zorah', 'female'), ('Zorana', 'female'), ('Zorina', 'female'), ('Zorine', 'female'), ('Zsa Zsa', 'female'), ('Zsazsa', 'female'), ('Zulema', 'female'), ('Zuzana', 'female')]\n"
     ]
    }
   ],
   "source": [
    "from nltk.corpus import names\n",
    "import random\n",
    "import nltk\n",
    "namelist=[]\n",
    "nameslist=[(name,'male') for name in names.words('male.txt')]+[(name,'female') for name in names.words('female.txt')]\n",
    "random.shuffle(namelist)\n",
    "print(nameslist[-50:])"
   ]
  },
  {
   "cell_type": "code",
   "execution_count": 2,
   "metadata": {},
   "outputs": [
    {
     "ename": "SyntaxError",
     "evalue": "invalid syntax (<ipython-input-2-891ffda54008>, line 2)",
     "output_type": "error",
     "traceback": [
      "\u001b[1;36m  File \u001b[1;32m\"<ipython-input-2-891ffda54008>\"\u001b[1;36m, line \u001b[1;32m2\u001b[0m\n\u001b[1;33m    return('last_letter':word[-1])\u001b[0m\n\u001b[1;37m                        ^\u001b[0m\n\u001b[1;31mSyntaxError\u001b[0m\u001b[1;31m:\u001b[0m invalid syntax\n"
     ]
    }
   ],
   "source": [
    "def gender_features(word):\n",
    "    return('last_letter':word[-1])\n",
    "gender_features('Shrek')\n",
    "featursSet=[(gender_features(n),g) for (n,g) in namelist]\n",
    "print[featuresSet]\n",
    "train_set,test_set=featuresSet[500:],featuresSet[:500]\n",
    "classifier=nltk.NaiveBayesClassifier.train(train_set)"
   ]
  },
  {
   "cell_type": "code",
   "execution_count": null,
   "metadata": {},
   "outputs": [],
   "source": [
    "classifier.classify(gender_features(\"Tony\"))\n",
    "print(nltk.classify.accurancy(classifier,test_set))"
   ]
  },
  {
   "cell_type": "code",
   "execution_count": null,
   "metadata": {},
   "outputs": [],
   "source": [
    "def gender_features2(word):\n",
    "    return('last_letter':word[-1],)\n",
    "gender_features('Shrek')\n",
    "featursSet=[(gender_features(n),g) for (n,g) in namelist]\n",
    "print[featuresSet]\n",
    "train_set,test_set=featuresSet[500:],featuresSet[:500]\n",
    "classifier=nltk.NaiveBayesClassifier.train(train_set)"
   ]
  },
  {
   "cell_type": "code",
   "execution_count": null,
   "metadata": {},
   "outputs": [],
   "source": [
    "def gender_features2(word):\n",
    "    feature={}\n",
    "    features{\"firstletter\"}=word{0},lower()\n",
    "    features{\"lastletter\"}=word{-1},lower()\n",
    "    for letter in 'abcdefghijklmnopqrstuvwxyz':\n",
    "        features{'count(%s)'% letter}=word.lower().count(letter)\n",
    "        features{'has(%s)' % letter}=letter in word.lower()\n",
    "    return features\n",
    "featuresSet=[(gender_features2(n),g) for (n,g) in namelist]\n",
    "#  print(featuresSet[0:2])"
   ]
  },
  {
   "cell_type": "code",
   "execution_count": null,
   "metadata": {},
   "outputs": [],
   "source": [
    "# 错误分析\n",
    "train_names=nameslist[1500:]\n",
    "dev_names=namelist[500:1500]\n",
    "test_names=namelist[:500]\n",
    "train_set=[(gender_features2(n),g) for (n,g) in train_names]\n",
    "dev_set=[(gender_features2(n),g) for (n,g) in dev_names]\n",
    "test_set=[(gender_features2(n),g) for (n,g) in test_names]"
   ]
  },
  {
   "cell_type": "code",
   "execution_count": null,
   "metadata": {},
   "outputs": [],
   "source": [
    "# 特征调整，提高结果\n",
    "def gender_features3(word):\n",
    "    return {'suffix':word[-1:],'suffix2':word[-2:]}\n",
    "train_set=[(gender_features3(n),g) for (n,g) in train_names]\n",
    "dev_set=[(gender_features3(n),g) for (n,g) in dev_names]\n",
    "test_set=[(gender_features3(n),g) for (n,g) in test_names]\n",
    "classifier=nltk.NaiveBayesClassifier.train(train_set)\n",
    "print(nltk.classify.accuracy(classifier,dev_set))"
   ]
  },
  {
   "cell_type": "code",
   "execution_count": null,
   "metadata": {},
   "outputs": [],
   "source": []
  }
 ],
 "metadata": {
  "kernelspec": {
   "display_name": "Python 3",
   "language": "python",
   "name": "python3"
  },
  "language_info": {
   "codemirror_mode": {
    "name": "ipython",
    "version": 3
   },
   "file_extension": ".py",
   "mimetype": "text/x-python",
   "name": "python",
   "nbconvert_exporter": "python",
   "pygments_lexer": "ipython3",
   "version": "3.7.3"
  }
 },
 "nbformat": 4,
 "nbformat_minor": 2
}
