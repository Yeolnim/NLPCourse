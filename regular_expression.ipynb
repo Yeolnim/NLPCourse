{
 "cells": [
  {
   "cell_type": "code",
   "execution_count": 4,
   "metadata": {
    "collapsed": true
   },
   "outputs": [],
   "source": [
    "import re\n",
    "pattern=re.compile(r'able')\n",
    "match=pattern.match(\"sleepable eatable\")\n",
    "if match:\n",
    "    print(match.span())"
   ]
  },
  {
   "cell_type": "code",
   "execution_count": 5,
   "metadata": {},
   "outputs": [
    {
     "name": "stdout",
     "output_type": "stream",
     "text": [
      "(5, 9)\n"
     ]
    }
   ],
   "source": [
    "import re\n",
    "pattern=re.compile(r'able')\n",
    "match=pattern.search(\"sleepable eatable\")\n",
    "if match:\n",
    "    print(match.span())"
   ]
  },
  {
   "cell_type": "code",
   "execution_count": 6,
   "metadata": {},
   "outputs": [
    {
     "data": {
      "text/plain": [
       "[2009, 12, 31]"
      ]
     },
     "execution_count": 6,
     "metadata": {},
     "output_type": "execute_result"
    }
   ],
   "source": [
    "import re\n",
    "[int(n) for n in re.findall('[\\d]+','2009-12-31')]"
   ]
  },
  {
   "cell_type": "code",
   "execution_count": null,
   "metadata": {
    "collapsed": true
   },
   "outputs": [],
   "source": [
    "# 猜字谜\n",
    "# 1.以w开始，隔两个字母后是o的单词\n",
    "# 2.w开始，后面是多个o的\n",
    "\n",
    "import nltk\n",
    "wordlist=[w for w in nltk.corpus.nps_chat.words()]\n",
    "wordset=set(wordlist)\n",
    "print([w for w in wordset if re.search(\"^w..o\",w)])\n",
    "print([w for w in wordset if re.search(\"^w(o){4}\",w)])"
   ]
  },
  {
   "cell_type": "code",
   "execution_count": null,
   "metadata": {
    "collapsed": true
   },
   "outputs": [],
   "source": [
    "# 输入法猜想\n",
    "# 手指按键4 6 5 3，输出所有可能单词\n",
    "\n",
    "import nltk\n",
    "wordlist=[w for w in nltk.corpus.nps_chat.words()]\n",
    "wordset=set(wordlist)\n",
    "print([w for w in wordset if re.search(\"^[ghi][mno][jkl][def]$\",w)])"
   ]
  }
 ],
 "metadata": {
  "kernelspec": {
   "display_name": "Python 3",
   "language": "python",
   "name": "python3"
  },
  "language_info": {
   "codemirror_mode": {
    "name": "ipython",
    "version": 3
   },
   "file_extension": ".py",
   "mimetype": "text/x-python",
   "name": "python",
   "nbconvert_exporter": "python",
   "pygments_lexer": "ipython3",
   "version": "3.7.3"
  }
 },
 "nbformat": 4,
 "nbformat_minor": 2
}
